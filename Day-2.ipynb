{
 "cells": [
  {
   "cell_type": "markdown",
   "metadata": {},
   "source": [
    "# Question 1"
   ]
  },
  {
   "cell_type": "code",
   "execution_count": 1,
   "metadata": {},
   "outputs": [
    {
     "name": "stdout",
     "output_type": "stream",
     "text": [
      "enter 10 numbers:\n",
      "\n",
      "4\n",
      "5\n",
      "6\n",
      "77\n",
      "90\n",
      "88\n",
      "234\n",
      "6\n",
      "55\n",
      "10\n",
      "[4, 6, 90, 88, 234, 6, 10]\n"
     ]
    }
   ],
   "source": [
    "l = []\n",
    "x = []\n",
    "print(\"enter 10 numbers:\\n\")\n",
    "for i in range(10):\n",
    "    x.append(int(input()))\n",
    "l = [i for i in x if i%2==0]\n",
    "print(l)"
   ]
  },
  {
   "cell_type": "markdown",
   "metadata": {},
   "source": [
    "# Question 2"
   ]
  },
  {
   "cell_type": "code",
   "execution_count": 2,
   "metadata": {},
   "outputs": [
    {
     "name": "stdout",
     "output_type": "stream",
     "text": [
      "[4, 9, 16, 25]\n",
      "[7, 3, 9]\n",
      "[-4, -1, -7]\n",
      "['pear', 'pineapple']\n",
      "['APPLE', 'TOMATO', 'BANANA', 'STRAWBERRY']\n"
     ]
    }
   ],
   "source": [
    "# LIST COMPREHENSIONS\n",
    "\n",
    "# find square of all numbers in a list\n",
    "l = [2,3,4,5]\n",
    "squares = [i**2 for i in l]\n",
    "print(squares)\n",
    "\n",
    "#find positive and negative numbers in a list\n",
    "l1 = [7,-4,3,9,-1,-7]\n",
    "pos = [i for i in l1 if i>=0]\n",
    "neg = [i for i in l1 if i<0]\n",
    "print(pos)\n",
    "print(neg)\n",
    "\n",
    "#find elements with letter 'p' in them\n",
    "l2 = ['banana','berry','pear','pineapple']\n",
    "x = [i for i in l2 if 'p' in i]\n",
    "print(x)\n",
    "\n",
    "#convert elements to uppercase\n",
    "l3 = ['Apple','Tomato','banana','strawBerry']\n",
    "upp = [i.upper() for i in l3]\n",
    "print(upp)"
   ]
  },
  {
   "cell_type": "markdown",
   "metadata": {},
   "source": [
    "# Question 3"
   ]
  },
  {
   "cell_type": "code",
   "execution_count": 3,
   "metadata": {},
   "outputs": [
    {
     "name": "stdout",
     "output_type": "stream",
     "text": [
      "8\n",
      "{1: 1, 2: 4, 3: 9, 4: 16, 5: 25, 6: 36, 7: 49, 8: 64}\n"
     ]
    }
   ],
   "source": [
    "n=int(input())\n",
    "d = dict()\n",
    "for x in range(1,n+1):\n",
    "    d[x]=x*x\n",
    "\n",
    "print(d) "
   ]
  },
  {
   "cell_type": "markdown",
   "metadata": {},
   "source": [
    "# Question 4"
   ]
  },
  {
   "cell_type": "code",
   "execution_count": 4,
   "metadata": {},
   "outputs": [
    {
     "name": "stdout",
     "output_type": "stream",
     "text": [
      "Enter number of directions4\n",
      "UP5\n",
      "DOWN3\n",
      "LEFT3\n",
      "RIGHT2\n",
      "2\n"
     ]
    }
   ],
   "source": [
    "x = int(input(\"Enter number of directions\"))\n",
    "up = int(input(\"UP\"))\n",
    "down = int(input(\"DOWN\"))\n",
    "if x==3:\n",
    "    lr = int(input(\"LEFT/RIGHT\"))\n",
    "    dist = ((up-down)**2 + (lr)**2) ** 0.5\n",
    "else:\n",
    "    left = int(input(\"LEFT\"))\n",
    "    right = int(input(\"RIGHT\"))\n",
    "    dist = ((up-down)**2 + (left-right)**2) ** 0.5\n",
    "\n",
    "print(round(dist))"
   ]
  }
 ],
 "metadata": {
  "kernelspec": {
   "display_name": "Python 3",
   "language": "python",
   "name": "python3"
  },
  "language_info": {
   "codemirror_mode": {
    "name": "ipython",
    "version": 3
   },
   "file_extension": ".py",
   "mimetype": "text/x-python",
   "name": "python",
   "nbconvert_exporter": "python",
   "pygments_lexer": "ipython3",
   "version": "3.8.3"
  }
 },
 "nbformat": 4,
 "nbformat_minor": 4
}
