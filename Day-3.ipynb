{
 "cells": [
  {
   "cell_type": "markdown",
   "metadata": {},
   "source": [
    "# Question 1"
   ]
  },
  {
   "cell_type": "code",
   "execution_count": 44,
   "metadata": {},
   "outputs": [],
   "source": [
    "import numpy as np"
   ]
  },
  {
   "cell_type": "markdown",
   "metadata": {},
   "source": [
    "# Question 2"
   ]
  },
  {
   "cell_type": "code",
   "execution_count": 45,
   "metadata": {},
   "outputs": [
    {
     "name": "stdout",
     "output_type": "stream",
     "text": [
      "[ 2  5  8 11 14 17 20 23 26 29 32 35 38 41 44 47 50]\n"
     ]
    }
   ],
   "source": [
    "arr = np.arange(2,51,3)\n",
    "print(arr)"
   ]
  },
  {
   "cell_type": "code",
   "execution_count": 19,
   "metadata": {},
   "outputs": [
    {
     "name": "stdout",
     "output_type": "stream",
     "text": [
      "Enter elements for first list\n",
      "12\n",
      "2\n",
      "6\n",
      "71\n",
      "6\n",
      "Enter elements for second list\n",
      "09\n",
      "8\n",
      "33\n",
      "12\n",
      "4\n",
      "[12  2  6 71  6  9  8 33 12  4]\n",
      "[ 2  4  6  6  8  9 12 12 33 71]\n"
     ]
    }
   ],
   "source": [
    "a = []\n",
    "b = []\n",
    "print(\"Enter elements for first list\")\n",
    "for i in range(5):\n",
    "    a.append(int(input()))\n",
    "\n",
    "print(\"Enter elements for second list\")\n",
    "for i in range(5):\n",
    "    b.append(int(input()))\n",
    "\n",
    "# convert to numpy array\n",
    "arr1 = np.array(a)\n",
    "arr2 = np.array(b)\n",
    "\n",
    "#concat and sort two lists\n",
    "result = np.concatenate((arr1,arr2))\n",
    "print(result)\n",
    "res = np.sort(result)\n",
    "print(res)"
   ]
  },
  {
   "cell_type": "markdown",
   "metadata": {},
   "source": [
    "# Question 3"
   ]
  },
  {
   "cell_type": "code",
   "execution_count": 26,
   "metadata": {},
   "outputs": [
    {
     "name": "stdout",
     "output_type": "stream",
     "text": [
      "[[ 1  2  3]\n",
      " [ 4  5  6]\n",
      " [ 7  8  9]\n",
      " [10 11 12]\n",
      " [13 14 15]]\n",
      "(5, 3)\n",
      "15\n"
     ]
    }
   ],
   "source": [
    "arr = np.array([[1,2,3],[4,5,6],[7,8,9],[10,11,12],[13,14,15]])\n",
    "print(arr)\n",
    "# dimensions of array\n",
    "print(arr.shape)\n",
    "#size of array\n",
    "print(arr.size)"
   ]
  },
  {
   "cell_type": "markdown",
   "metadata": {},
   "source": [
    "# Question 4"
   ]
  },
  {
   "cell_type": "code",
   "execution_count": 41,
   "metadata": {},
   "outputs": [
    {
     "name": "stdout",
     "output_type": "stream",
     "text": [
      "(5,)\n",
      "[0 1 2 3 4]\n",
      "\n",
      "(1, 5)\n",
      "[[0 1 2 3 4]]\n",
      "\n",
      "[[0]\n",
      " [1]\n",
      " [2]\n",
      " [3]\n",
      " [4]]\n",
      "(5, 1)\n"
     ]
    }
   ],
   "source": [
    "arr = np.arange(5)\n",
    "print(arr.shape)\n",
    "print(arr)\n",
    "print()\n",
    "# convert 1D array to a 2D array using np.newaxis\n",
    "arr_2D = arr[np.newaxis] \n",
    "  \n",
    "print(arr_2D.shape)\n",
    "print(arr_2D)\n",
    "print()\n",
    "\n",
    "# convert 1D array to a 2D array using np.expand_dims\n",
    "y = np.expand_dims(arr, axis=1)\n",
    "print(y)\n",
    "print(y.shape)"
   ]
  },
  {
   "cell_type": "code",
   "execution_count": null,
   "metadata": {},
   "outputs": [],
   "source": []
  }
 ],
 "metadata": {
  "kernelspec": {
   "display_name": "Python 3",
   "language": "python",
   "name": "python3"
  },
  "language_info": {
   "codemirror_mode": {
    "name": "ipython",
    "version": 3
   },
   "file_extension": ".py",
   "mimetype": "text/x-python",
   "name": "python",
   "nbconvert_exporter": "python",
   "pygments_lexer": "ipython3",
   "version": "3.8.3"
  }
 },
 "nbformat": 4,
 "nbformat_minor": 4
}
